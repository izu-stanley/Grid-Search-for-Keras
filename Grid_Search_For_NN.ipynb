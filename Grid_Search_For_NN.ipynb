{
  "nbformat": 4,
  "nbformat_minor": 0,
  "metadata": {
    "colab": {
      "name": "Grid Search For NN.ipynb",
      "version": "0.3.2",
      "provenance": []
    },
    "kernelspec": {
      "name": "python3",
      "display_name": "Python 3"
    }
  },
  "cells": [
    {
      "cell_type": "markdown",
      "metadata": {
        "id": "TpK_QMRZTxDj",
        "colab_type": "text"
      },
      "source": [
        "##GRID SEARCH USING NEURAL NETWORKS FOR KERAS AND TENSORFLOW"
      ]
    },
    {
      "cell_type": "markdown",
      "metadata": {
        "id": "ZGhVcWyvT5GW",
        "colab_type": "text"
      },
      "source": [
        "This notebook shows how to implement grid search for parameter tuning on Neural Networks. It makes use of the Grid Search Function in Scikit Learn and also the Keras Classifier  Wrapper. It is implemented using Keras and Tensorflow as its back end"
      ]
    },
    {
      "cell_type": "markdown",
      "metadata": {
        "id": "E4iqcAUzUfGo",
        "colab_type": "text"
      },
      "source": [
        "The data set used for demonstration would be the MNIST dataset"
      ]
    },
    {
      "cell_type": "markdown",
      "metadata": {
        "id": "YwKyCOv5UyTG",
        "colab_type": "text"
      },
      "source": [
        "##MAKE IMPORTS"
      ]
    },
    {
      "cell_type": "code",
      "metadata": {
        "id": "dZZb7fBZT3-G",
        "colab_type": "code",
        "colab": {}
      },
      "source": [
        "\n",
        "from __future__ import print_function\n",
        "import keras\n",
        "from keras.datasets import mnist\n",
        "from keras.models import Sequential\n",
        "from keras.layers import Dense, Dropout, Flatten\n",
        "from keras.layers import Conv2D, MaxPooling2D\n",
        "from keras import backend as K\n",
        "from keras.models import Sequential\n",
        "from keras.layers import Dense, Dropout, Flatten\n",
        "from keras.layers import Conv2D, MaxPooling2D\n",
        "from keras.wrappers.scikit_learn import KerasClassifier\n",
        "from sklearn.model_selection import GridSearchCV as gs"
      ],
      "execution_count": 0,
      "outputs": []
    },
    {
      "cell_type": "markdown",
      "metadata": {
        "id": "hHPzH189U7pl",
        "colab_type": "text"
      },
      "source": [
        "##DEFINE CONSTANTS"
      ]
    },
    {
      "cell_type": "code",
      "metadata": {
        "id": "OctKNBQAUwQo",
        "colab_type": "code",
        "colab": {}
      },
      "source": [
        "batch_size = 128\n",
        "num_classes = 10\n",
        "epochs = 12\n",
        "# input image dimensions\n",
        "img_rows, img_cols = 28, 28\n"
      ],
      "execution_count": 0,
      "outputs": []
    },
    {
      "cell_type": "markdown",
      "metadata": {
        "id": "zk75lac5VFNE",
        "colab_type": "text"
      },
      "source": [
        "##LOAD DATASET AND SPLIT"
      ]
    },
    {
      "cell_type": "code",
      "metadata": {
        "id": "sgy2Tan1VICQ",
        "colab_type": "code",
        "colab": {}
      },
      "source": [
        "# the data, split between train and test sets\n",
        "(x_train, y_train), (x_test, y_test) = mnist.load_data()"
      ],
      "execution_count": 0,
      "outputs": []
    },
    {
      "cell_type": "markdown",
      "metadata": {
        "id": "T4pwgW8JVKwN",
        "colab_type": "text"
      },
      "source": [
        "##Some Preprocessing"
      ]
    },
    {
      "cell_type": "code",
      "metadata": {
        "id": "9XwgSgbnVAO7",
        "colab_type": "code",
        "outputId": "71993e22-4670-4023-ab8e-0f7aef8ae98b",
        "colab": {
          "base_uri": "https://localhost:8080/",
          "height": 68
        }
      },
      "source": [
        "if K.image_data_format() == 'channels_first':\n",
        "    x_train = x_train.reshape(x_train.shape[0], 1, img_rows, img_cols)\n",
        "    x_test = x_test.reshape(x_test.shape[0], 1, img_rows, img_cols)\n",
        "    input_shape = (1, img_rows, img_cols)\n",
        "else:\n",
        "    x_train = x_train.reshape(x_train.shape[0], img_rows, img_cols, 1)\n",
        "    x_test = x_test.reshape(x_test.shape[0], img_rows, img_cols, 1)\n",
        "    input_shape = (img_rows, img_cols, 1)\n",
        "\n",
        "x_train = x_train.astype('float32')\n",
        "x_test = x_test.astype('float32')\n",
        "x_train /= 255\n",
        "x_test /= 255\n",
        "print('x_train shape:', x_train.shape)\n",
        "print(x_train.shape[0], 'train samples')\n",
        "print(x_test.shape[0], 'test samples')\n",
        "\n",
        "# convert class vectors to binary class matrices\n",
        "y_train = keras.utils.to_categorical(y_train, num_classes)\n",
        "y_test = keras.utils.to_categorical(y_test, num_classes)"
      ],
      "execution_count": 23,
      "outputs": [
        {
          "output_type": "stream",
          "text": [
            "x_train shape: (60000, 28, 28, 1)\n",
            "60000 train samples\n",
            "10000 test samples\n"
          ],
          "name": "stdout"
        }
      ]
    },
    {
      "cell_type": "markdown",
      "metadata": {
        "id": "nBEUguwJVTOt",
        "colab_type": "text"
      },
      "source": [
        "#This is where the magic happens, We define a searcher function and its parameters are the parameters we want to tune"
      ]
    },
    {
      "cell_type": "code",
      "metadata": {
        "id": "h0-0Vz7EVQC7",
        "colab_type": "code",
        "colab": {}
      },
      "source": [
        "def searcher(activation = 'relu', optimizer = 'adam',init_mode = 'uniform',drop_out=0.25):\n",
        "    # Must define the input shape in the first layer of the neural network\n",
        "    model = Sequential()\n",
        "    model.add(Conv2D(filters=32, kernel_size=(3, 3),\n",
        "                     activation=activation,\n",
        "                     kernel_initializer = init_mode,\n",
        "                     input_shape=(28,28,1)))\n",
        "    model.add(Conv2D(64, (3, 3), activation=activation, kernel_initializer = init_mode))\n",
        "    model.add(MaxPooling2D(pool_size=(2, 2)))\n",
        "    model.add(Dropout(drop_out))\n",
        "    model.add(Flatten())\n",
        "    model.add(Dense(256, activation=activation,kernel_initializer = init_mode))\n",
        "    model.add(Dropout(2*drop_out))\n",
        "    model.add(Dense(10, activation='softmax',kernel_initializer = init_mode))\n",
        "    \n",
        "    model.compile(loss=keras.losses.categorical_crossentropy,\n",
        "                  optimizer=optimizer,\n",
        "                  metrics=['accuracy'])\n",
        "    return model"
      ],
      "execution_count": 0,
      "outputs": []
    },
    {
      "cell_type": "markdown",
      "metadata": {
        "id": "YgQNrlS5Vk9c",
        "colab_type": "text"
      },
      "source": [
        "##Wrap the model using the keras wrapper"
      ]
    },
    {
      "cell_type": "code",
      "metadata": {
        "id": "PK0Ll2g4VhHh",
        "colab_type": "code",
        "colab": {}
      },
      "source": [
        "model = KerasClassifier(build_fn=searcher,verbose=1)"
      ],
      "execution_count": 0,
      "outputs": []
    },
    {
      "cell_type": "markdown",
      "metadata": {
        "id": "0EBY8T1ZVxM9",
        "colab_type": "text"
      },
      "source": [
        "##Define the paramters we want to tune and give them estimated values"
      ]
    },
    {
      "cell_type": "code",
      "metadata": {
        "id": "sR8XDWCXVn18",
        "colab_type": "code",
        "colab": {}
      },
      "source": [
        "#Params to tune\n",
        "activation = ['relu','tanh']\n",
        "batch = [10,32,64,128,256]\n",
        "epoch = [1,5,10,20,30]\n",
        "optimizer = ['SGD','RMSprop','Adagrad','Adadelta','Adam','Adamax']\n",
        "init = ['uniform','lecun_uniform','he_uniform']\n",
        "dropout = [0.0,0.1,0.2,0.3,0.4,0.5,0.6,0.7,0.8,0.9]"
      ],
      "execution_count": 0,
      "outputs": []
    },
    {
      "cell_type": "code",
      "metadata": {
        "id": "v5rmDFWPV7Yj",
        "colab_type": "code",
        "colab": {}
      },
      "source": [
        "param = dict(activation = activation, epochs = epoch,batch_size = batch,\n",
        "             optimizer = optimizer, init_mode = init,drop_out = dropout)"
      ],
      "execution_count": 0,
      "outputs": []
    },
    {
      "cell_type": "markdown",
      "metadata": {
        "id": "mRukVQJwWBGf",
        "colab_type": "text"
      },
      "source": [
        "##Add checkpointing to keep track of the best model"
      ]
    },
    {
      "cell_type": "code",
      "metadata": {
        "id": "nNEFiVzvV_LP",
        "colab_type": "code",
        "colab": {}
      },
      "source": [
        "from keras.callbacks import ModelCheckpoint\n",
        "optimum_weight = ModelCheckpoint(filepath='model.weights.best.hdf5', verbose = 1, save_best_only=True)\n"
      ],
      "execution_count": 0,
      "outputs": []
    },
    {
      "cell_type": "markdown",
      "metadata": {
        "id": "YlzgypLeWKnH",
        "colab_type": "text"
      },
      "source": [
        "##Train"
      ]
    },
    {
      "cell_type": "code",
      "metadata": {
        "id": "TtoreGa2WGOM",
        "colab_type": "code",
        "colab": {}
      },
      "source": [
        "grid = gs(estimator=model,param_grid=param, cv = 10,refit=True)"
      ],
      "execution_count": 0,
      "outputs": []
    },
    {
      "cell_type": "code",
      "metadata": {
        "id": "llu0UhYnWMpZ",
        "colab_type": "code",
        "colab": {}
      },
      "source": [
        "grid_result = grid.fit(x_train,y_train)"
      ],
      "execution_count": 0,
      "outputs": []
    },
    {
      "cell_type": "markdown",
      "metadata": {
        "id": "146Et8BmU5aO",
        "colab_type": "text"
      },
      "source": [
        "##Show the  best result and its parameters"
      ]
    },
    {
      "cell_type": "code",
      "metadata": {
        "id": "X_xi5qzDUbcD",
        "colab_type": "code",
        "colab": {}
      },
      "source": [
        "print('Best: ',grid_result.best_score_, 'Params: ', grid_result.best_params_)"
      ],
      "execution_count": 0,
      "outputs": []
    },
    {
      "cell_type": "code",
      "metadata": {
        "id": "0f5Srm7VUp4Y",
        "colab_type": "code",
        "colab": {}
      },
      "source": [
        ""
      ],
      "execution_count": 0,
      "outputs": []
    }
  ]
}